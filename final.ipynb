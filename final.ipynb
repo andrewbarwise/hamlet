{
 "cells": [
  {
   "cell_type": "code",
   "execution_count": 1,
   "metadata": {},
   "outputs": [
    {
     "name": "stdout",
     "output_type": "stream",
     "text": [
      "Total borrowed corrections from Restored in Edition II: 165586\n"
     ]
    }
   ],
   "source": [
    "import difflib\n",
    "\n",
    "# Load the texts of Edition I, Edition II, and Restored into variables\n",
    "with open('text_files/Pope Hamlet 1725.txt', 'r') as file1:\n",
    "    edition1_text = file1.read()\n",
    "\n",
    "with open('text_files/Pope Hamlet 1728.txt', 'r') as file2:\n",
    "    edition2_text = file2.read()\n",
    "\n",
    "with open('text_files/Theobald Shakespeare Restored.txt', 'r') as restored_file:\n",
    "    restored_text = restored_file.read()\n",
    "\n",
    "# Compute the differences between Edition I and Edition II\n",
    "differ = difflib.Differ()\n",
    "differences = list(differ.compare(edition1_text, edition2_text))\n",
    "\n",
    "# Search for discrepancies in Edition II compared to Edition I\n",
    "borrowed_corrections = []\n",
    "for line in differences:\n",
    "    if line.startswith('- '):  # Lines present in Edition I but not in Edition II\n",
    "        borrowed_corrections.append(line[2:])\n",
    "\n",
    "# Quantify how many corrections Edition II borrowed from Restored\n",
    "borrowed_count = 0\n",
    "for correction in borrowed_corrections:\n",
    "    if correction in restored_text:\n",
    "        borrowed_count += 1\n",
    "\n",
    "print(f\"Total borrowed corrections from Restored in Edition II: {borrowed_count}\")"
   ]
  },
  {
   "cell_type": "code",
   "execution_count": 7,
   "metadata": {},
   "outputs": [],
   "source": [
    "import re\n",
    "\n",
    "hamlet_text = edition1_text\n",
    "\n",
    "character_names = [\"king.\", \"fort.\", \"ber.\", \"Mar.\", \"Hor.\"]\n",
    "\n",
    "# Create a regular expression pattern to match the character names\n",
    "pattern = r'(' + '|'.join(re.escape(name) for name in character_names) + r'):'\n",
    "\n",
    "# Split the text based on the character names\n",
    "split_text = re.split(pattern, hamlet_text)\n",
    "\n",
    "# Clean up any leading or trailing whitespace and remove empty strings\n",
    "split_text = [segment.strip() for segment in split_text if segment.strip()]\n",
    "\n",
    "# Create a list of character dialogues\n",
    "character_dialogues = []\n",
    "\n",
    "current_character = None\n",
    "\n",
    "for segment in split_text:\n",
    "    if segment in character_names:\n",
    "        current_character = segment\n",
    "    else:\n",
    "        if current_character is not None:\n",
    "            character_dialogues.append(f\"{current_character}: {segment.strip()}\")\n"
   ]
  },
  {
   "cell_type": "code",
   "execution_count": 8,
   "metadata": {},
   "outputs": [
    {
     "data": {
      "text/plain": [
       "[]"
      ]
     },
     "execution_count": 8,
     "metadata": {},
     "output_type": "execute_result"
    }
   ],
   "source": [
    "character_dialogues"
   ]
  }
 ],
 "metadata": {
  "kernelspec": {
   "display_name": "genevieve",
   "language": "python",
   "name": "python3"
  },
  "language_info": {
   "codemirror_mode": {
    "name": "ipython",
    "version": 3
   },
   "file_extension": ".py",
   "mimetype": "text/x-python",
   "name": "python",
   "nbconvert_exporter": "python",
   "pygments_lexer": "ipython3",
   "version": "3.11.6"
  }
 },
 "nbformat": 4,
 "nbformat_minor": 2
}
