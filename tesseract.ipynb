{
 "cells": [
  {
   "cell_type": "code",
   "execution_count": 1,
   "metadata": {},
   "outputs": [
    {
     "name": "stdout",
     "output_type": "stream",
     "text": [
      "Collecting pytesseract\n",
      "  Downloading pytesseract-0.3.10-py3-none-any.whl (14 kB)\n",
      "Requirement already satisfied: packaging>=21.3 in /Users/andrewbarwise/miniforge3/envs/genevieve/lib/python3.11/site-packages (from pytesseract) (23.2)\n",
      "Collecting Pillow>=8.0.0 (from pytesseract)\n",
      "  Using cached Pillow-10.1.0-cp311-cp311-macosx_11_0_arm64.whl.metadata (9.5 kB)\n",
      "Using cached Pillow-10.1.0-cp311-cp311-macosx_11_0_arm64.whl (3.3 MB)\n",
      "Installing collected packages: Pillow, pytesseract\n",
      "Successfully installed Pillow-10.1.0 pytesseract-0.3.10\n",
      "\u001b[31mERROR: Could not find a version that satisfies the requirement PIL (from versions: none)\u001b[0m\u001b[31m\n",
      "\u001b[0m\u001b[31mERROR: No matching distribution found for PIL\u001b[0m\u001b[31m\n",
      "\u001b[0mCollecting pdf2image\n",
      "  Downloading pdf2image-1.16.3-py3-none-any.whl (11 kB)\n",
      "Requirement already satisfied: pillow in /Users/andrewbarwise/miniforge3/envs/genevieve/lib/python3.11/site-packages (from pdf2image) (10.1.0)\n",
      "Installing collected packages: pdf2image\n",
      "Successfully installed pdf2image-1.16.3\n"
     ]
    }
   ],
   "source": [
    "!pip install pytesseract\n",
    "!pip install PIL\n",
    "!pip install pdf2image "
   ]
  },
  {
   "cell_type": "code",
   "execution_count": 2,
   "metadata": {},
   "outputs": [],
   "source": [
    "import pytesseract\n",
    "from PIL import Image\n",
    "from pdf2image import convert_from_path"
   ]
  },
  {
   "cell_type": "code",
   "execution_count": 2,
   "metadata": {},
   "outputs": [
    {
     "ename": "NameError",
     "evalue": "name 'convert_from_path' is not defined",
     "output_type": "error",
     "traceback": [
      "\u001b[0;31m---------------------------------------------------------------------------\u001b[0m",
      "\u001b[0;31mNameError\u001b[0m                                 Traceback (most recent call last)",
      "\u001b[1;32m/Users/andrewbarwise/Desktop/genevieve/tesseract.ipynb Cell 3\u001b[0m line \u001b[0;36m2\n\u001b[1;32m      <a href='vscode-notebook-cell:/Users/andrewbarwise/Desktop/genevieve/tesseract.ipynb#W1sZmlsZQ%3D%3D?line=0'>1</a>\u001b[0m pdf_path \u001b[39m=\u001b[39m \u001b[39m\"\u001b[39m\u001b[39mPope Hamlet 1725 facsimile.pdf\u001b[39m\u001b[39m\"\u001b[39m\n\u001b[0;32m----> <a href='vscode-notebook-cell:/Users/andrewbarwise/Desktop/genevieve/tesseract.ipynb#W1sZmlsZQ%3D%3D?line=1'>2</a>\u001b[0m images \u001b[39m=\u001b[39m convert_from_path(pdf_path[\u001b[39m0\u001b[39m:\u001b[39m5\u001b[39m])\n",
      "\u001b[0;31mNameError\u001b[0m: name 'convert_from_path' is not defined"
     ]
    }
   ],
   "source": [
    "pdf_path = \"Pope Hamlet 1725 facsimile.pdf\"\n",
    "images = convert_from_path(pdf_path)"
   ]
  },
  {
   "cell_type": "code",
   "execution_count": 1,
   "metadata": {},
   "outputs": [
    {
     "ename": "NameError",
     "evalue": "name 'images' is not defined",
     "output_type": "error",
     "traceback": [
      "\u001b[0;31m---------------------------------------------------------------------------\u001b[0m",
      "\u001b[0;31mNameError\u001b[0m                                 Traceback (most recent call last)",
      "\u001b[1;32m/Users/andrewbarwise/Desktop/genevieve/tesseract.ipynb Cell 4\u001b[0m line \u001b[0;36m2\n\u001b[1;32m      <a href='vscode-notebook-cell:/Users/andrewbarwise/Desktop/genevieve/tesseract.ipynb#W2sZmlsZQ%3D%3D?line=0'>1</a>\u001b[0m extracted_text \u001b[39m=\u001b[39m []\n\u001b[0;32m----> <a href='vscode-notebook-cell:/Users/andrewbarwise/Desktop/genevieve/tesseract.ipynb#W2sZmlsZQ%3D%3D?line=1'>2</a>\u001b[0m \u001b[39mfor\u001b[39;00m image \u001b[39min\u001b[39;00m images:\n\u001b[1;32m      <a href='vscode-notebook-cell:/Users/andrewbarwise/Desktop/genevieve/tesseract.ipynb#W2sZmlsZQ%3D%3D?line=2'>3</a>\u001b[0m     text \u001b[39m=\u001b[39m pytesseract\u001b[39m.\u001b[39mimage_to_string(image)\n\u001b[1;32m      <a href='vscode-notebook-cell:/Users/andrewbarwise/Desktop/genevieve/tesseract.ipynb#W2sZmlsZQ%3D%3D?line=3'>4</a>\u001b[0m     extracted_text\u001b[39m.\u001b[39mappend(text)\n",
      "\u001b[0;31mNameError\u001b[0m: name 'images' is not defined"
     ]
    }
   ],
   "source": [
    "extracted_text = []\n",
    "for image in images:\n",
    "    text = pytesseract.image_to_string(image)\n",
    "    extracted_text.append(text)\n"
   ]
  },
  {
   "cell_type": "code",
   "execution_count": null,
   "metadata": {},
   "outputs": [],
   "source": [
    "for i, text in enumerate(extracted_text):\n",
    "    print(f\"Page {i + 1}:\\n{text}\\n\")\n",
    "\n",
    "with open(\"extracted_text.txt\", \"w\") as text_file:\n",
    "    text_file.write(\"\\n\".join(extracted_text))\n"
   ]
  }
 ],
 "metadata": {
  "kernelspec": {
   "display_name": "genevieve",
   "language": "python",
   "name": "python3"
  },
  "language_info": {
   "codemirror_mode": {
    "name": "ipython",
    "version": 3
   },
   "file_extension": ".py",
   "mimetype": "text/x-python",
   "name": "python",
   "nbconvert_exporter": "python",
   "pygments_lexer": "ipython3",
   "version": "3.11.6"
  }
 },
 "nbformat": 4,
 "nbformat_minor": 2
}
