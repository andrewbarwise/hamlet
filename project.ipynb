{
 "cells": [
  {
   "cell_type": "code",
   "execution_count": 1,
   "metadata": {},
   "outputs": [],
   "source": [
    "import difflib\n",
    "import re\n",
    "\n",
    "# Load the texts of Edition I, Edition II, and Restored into variables\n",
    "with open('text_files/1725 textfile.txt', 'r') as file1:\n",
    "    edition1_text = file1.read()\n",
    "\n",
    "with open('text_files/1728 textfile.txt', 'r') as file2:\n",
    "    edition2_text = file2.read()\n",
    "\n",
    "with open('text_files/Dramatis personae string list.txt', 'r') as names:\n",
    "    names = names.readlines()\n",
    "    names_list = [s.replace(\"\\n\", \"\") for s in names]\n",
    "    names_list = [s.replace(\"\\ufeff\", \"\") for s in names_list]"
   ]
  },
  {
   "cell_type": "code",
   "execution_count": 2,
   "metadata": {},
   "outputs": [
    {
     "data": {
      "text/plain": [
       "['fran.',\n",
       " 'ber.',\n",
       " 'mar.',\n",
       " 'mer.',\n",
       " 'hor.',\n",
       " 'ber.',\n",
       " 'king.',\n",
       " 'vol.',\n",
       " 'volt.',\n",
       " 'laer.',\n",
       " 'ham.',\n",
       " 'queen.',\n",
       " 'all.',\n",
       " 'both.',\n",
       " 'oph.',\n",
       " 'pol.',\n",
       " 'ghost.',\n",
       " 'rey.',\n",
       " 'ros.',\n",
       " 'rof.',\n",
       " 'guil.',\n",
       " '1 clown.',\n",
       " '2 clown.',\n",
       " 'clown.',\n",
       " 'osr.',\n",
       " 'ofr.',\n",
       " 'priest.',\n",
       " 'sail.',\n",
       " 'mes.',\n",
       " 'mef.',\n",
       " 'play.',\n",
       " 'for.',\n",
       " 'fort.',\n",
       " 'capt.',\n",
       " 'cap.',\n",
       " 'gentlemen within.',\n",
       " 'gent.',\n",
       " 'ser.',\n",
       " 'sail.',\n",
       " 'lord.',\n",
       " 'amb.']"
      ]
     },
     "execution_count": 2,
     "metadata": {},
     "output_type": "execute_result"
    }
   ],
   "source": [
    "names_list"
   ]
  },
  {
   "cell_type": "code",
   "execution_count": 3,
   "metadata": {},
   "outputs": [],
   "source": [
    "def data_clean(text):\n",
    "    clean_text = text.lower()\n",
    "    clean_text = clean_text.replace(\"\\n\", \"\")\n",
    "    clean_text = clean_text.replace(\"\\\\\", \"\")\n",
    "    clean_text = clean_text.replace(\"/\", \"\")\n",
    "    clean_text = clean_text.replace(\"-\", \"\")\n",
    "    clean_text = clean_text.replace(\"\\ufeff\", \"\")\n",
    " \n",
    "    return clean_text"
   ]
  },
  {
   "cell_type": "code",
   "execution_count": 4,
   "metadata": {},
   "outputs": [],
   "source": [
    "clean_text_1725 = data_clean(edition1_text)\n",
    "clean_text_1728 = data_clean(edition2_text)"
   ]
  },
  {
   "cell_type": "code",
   "execution_count": 5,
   "metadata": {},
   "outputs": [],
   "source": [
    "def split_text(hamlet_text, character_names):\n",
    "\n",
    "    # Create a regular expression pattern to match the character names\n",
    "    pattern = r'(' + '|'.join(re.escape(name) for name in character_names) + r')'\n",
    "\n",
    "    # Split the text based on the character names while keeping the character's dialogue\n",
    "    split_text = re.split(pattern, hamlet_text)\n",
    "\n",
    "    # Clean up any leading or trailing whitespace and remove empty strings\n",
    "    split_text = [segment.strip() for segment in split_text if segment.strip()]\n",
    "\n",
    "    # Reconstruct the character dialogues\n",
    "    character_dialogues = []\n",
    "    current_character = None\n",
    "\n",
    "    for segment in split_text:\n",
    "        if segment in character_names:\n",
    "            current_character = segment\n",
    "            character_dialogues.append(current_character + \":\")\n",
    "        else:\n",
    "            if current_character is not None:\n",
    "                character_dialogues[-1] += \" \" + segment\n",
    "\n",
    "    return character_dialogues\n",
    "\n"
   ]
  },
  {
   "cell_type": "code",
   "execution_count": 6,
   "metadata": {},
   "outputs": [],
   "source": [
    "character_dialogues_1725 = split_text(clean_text_1725, names_list)\n",
    "character_dialogues_1728 = split_text(clean_text_1728, names_list)"
   ]
  },
  {
   "cell_type": "code",
   "execution_count": 7,
   "metadata": {},
   "outputs": [
    {
     "name": "stderr",
     "output_type": "stream",
     "text": [
      "/Users/andrewbarwise/miniforge3/envs/genevieve/lib/python3.11/site-packages/fuzzywuzzy/fuzz.py:11: UserWarning: Using slow pure-python SequenceMatcher. Install python-Levenshtein to remove this warning\n",
      "  warnings.warn('Using slow pure-python SequenceMatcher. Install python-Levenshtein to remove this warning')\n"
     ]
    },
    {
     "name": "stdout",
     "output_type": "stream",
     "text": [
      "Levenshtein Similarity (max score): 100\n"
     ]
    }
   ],
   "source": [
    "from fuzzywuzzy import fuzz\n",
    "\n",
    "list1 = character_dialogues_1725\n",
    "list2 = character_dialogues_1728\n",
    "\n",
    "similarity_scores = [fuzz.ratio(str1, str2) for str1 in list1 for str2 in list2]\n",
    "print(\"Levenshtein Similarity (max score):\", max(similarity_scores))\n"
   ]
  },
  {
   "cell_type": "code",
   "execution_count": 8,
   "metadata": {},
   "outputs": [
    {
     "name": "stdout",
     "output_type": "stream",
     "text": [
      "Cosine Similarity: 0.9988749921370038\n"
     ]
    }
   ],
   "source": [
    "from sklearn.feature_extraction.text import CountVectorizer\n",
    "from sklearn.metrics.pairwise import cosine_similarity\n",
    "\n",
    "list1 = character_dialogues_1725\n",
    "list2 = character_dialogues_1728\n",
    "\n",
    "vectorizer = CountVectorizer().fit_transform([','.join(list1), ','.join(list2)])\n",
    "vectors = vectorizer.toarray()\n",
    "cosine_sim = cosine_similarity(vectors)\n",
    "print(\"Cosine Similarity:\", cosine_sim[0][1])\n"
   ]
  },
  {
   "cell_type": "code",
   "execution_count": 9,
   "metadata": {},
   "outputs": [
    {
     "name": "stdout",
     "output_type": "stream",
     "text": [
      "Jaccard Similarity: 0.23669623059866962\n"
     ]
    }
   ],
   "source": [
    "list1 = character_dialogues_1725\n",
    "list2 = character_dialogues_1728\n",
    "\n",
    "set1 = set(list1)\n",
    "set2 = set(list2)\n",
    "\n",
    "jaccard_similarity = len(set1.intersection(set2)) / len(set1.union(set2))\n",
    "print(\"Jaccard Similarity:\", jaccard_similarity)\n"
   ]
  },
  {
   "cell_type": "code",
   "execution_count": 12,
   "metadata": {},
   "outputs": [],
   "source": [
    "from fuzzywuzzy import fuzz\n",
    "\n",
    "list1 = character_dialogues_1725\n",
    "list2 = character_dialogues_1728\n",
    "\n",
    "# Define a threshold for similarity (e.g., 80% similarity)\n",
    "threshold = 80\n",
    "def similarity_threshold(list1, list2, threshold):\n",
    "    differences = []\n",
    "    similarities = []\n",
    "\n",
    "    for str1 in list1:\n",
    "        found = False\n",
    "        for str2 in list2:\n",
    "            similarity_score = fuzz.ratio(str1, str2)\n",
    "            if similarity_score >= threshold:\n",
    "                similarities.append((str1, str2, similarity_score))\n",
    "                found = True\n",
    "                break\n",
    "        if not found:\n",
    "            differences.append(str1)\n",
    "\n",
    "    for str2 in list2:\n",
    "        found = False\n",
    "        for str1 in list1:\n",
    "            similarity_score = fuzz.ratio(str1, str2)\n",
    "            if similarity_score >= threshold:\n",
    "                found = True\n",
    "                break\n",
    "        if not found:\n",
    "            differences.append(str2)\n",
    "\n",
    "    # Create a text file for similarities\n",
    "    with open(\"clean_files/similarities1.txt\", \"w\") as similarities_file:\n",
    "        for str1, str2, score in similarities:\n",
    "            similarities_file.write(f\"{str1} and {str2} (Similarity: {score}%)\\n\")\n",
    "\n",
    "    # Create a text file for differences\n",
    "    with open(\"clean_files/differences1.txt\", \"w\") as differences_file:\n",
    "        for diff in differences:\n",
    "            differences_file.write(f\"{diff}\\n\")\n"
   ]
  },
  {
   "cell_type": "code",
   "execution_count": 14,
   "metadata": {},
   "outputs": [],
   "source": [
    "list1 = character_dialogues_1725\n",
    "list2 = character_dialogues_1728\n",
    "\n",
    "similarity_threshold(list1,list2,25)"
   ]
  }
 ],
 "metadata": {
  "kernelspec": {
   "display_name": "genevieve",
   "language": "python",
   "name": "python3"
  },
  "language_info": {
   "codemirror_mode": {
    "name": "ipython",
    "version": 3
   },
   "file_extension": ".py",
   "mimetype": "text/x-python",
   "name": "python",
   "nbconvert_exporter": "python",
   "pygments_lexer": "ipython3",
   "version": "3.11.6"
  }
 },
 "nbformat": 4,
 "nbformat_minor": 2
}
